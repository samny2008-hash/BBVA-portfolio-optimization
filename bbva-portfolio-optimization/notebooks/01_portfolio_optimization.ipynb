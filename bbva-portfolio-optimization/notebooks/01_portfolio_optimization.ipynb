{
 "cells": [
  {
   "cell_type": "code",
   "metadata": {},
   "source": [
    "import pandas as pd\\n",
    "import numpy as np\\n",
    "import yfinance as yf\\n",
    "import matplotlib.pyplot as plt\\n",
    "import seaborn as sns\\n",
    "from pypfopt import expected_returns, risk_models, EfficientFrontier, plotting"
   ]
  },
  {
   "cell_type": "code",
   "metadata": {},
   "source": [
    "funds = pd.read_csv('../data/bbva_funds.csv')\\n",
    "funds"
   ]
  },
  {
   "cell_type": "code",
   "metadata": {},
   "source": [
    "tickers = funds['Proxy_Ticker'].tolist()\\n",
    "data = yf.download(tickers, start='2020-01-01', progress=False)['Adj Close'].dropna()\\n",
    "data.tail()"
   ]
  },
  {
   "cell_type": "code",
   "metadata": {},
   "source": [
    "returns = data.pct_change().dropna()\\n",
    "returns.head()"
   ]
  },
  {
   "cell_type": "code",
   "metadata": {},
   "source": [
    "summary = pd.DataFrame({\\n",
    "    'Annual Return': returns.mean() * 252,\\n",
    "    'Volatility': returns.std() * np.sqrt(252)\\n",
    "})\\n",
    "summary['Sharpe (rf=0)'] = summary['Annual Return'] / summary['Volatility']\\n",
    "summary"
   ]
  },
  {
   "cell_type": "code",
   "metadata": {},
   "source": [
    "plt.figure(figsize=(6,4))\\n",
    "sns.heatmap(returns.corr(), annot=True, cmap='coolwarm', fmt='.2f')\\n",
    "plt.title('Correlation Matrix')\\n",
    "plt.show()"
   ]
  },
  {
   "cell_type": "code",
   "metadata": {},
   "source": [
    "mu = expected_returns.mean_historical_return(data)\\n",
    "S = risk_models.sample_cov(data)"
   ]
  },
  {
   "cell_type": "code",
   "metadata": {},
   "source": [
    "ef = EfficientFrontier(mu, S)\\n",
    "weights = ef.max_sharpe()\\n",
    "cleaned = ef.clean_weights()\\n",
    "cleaned"
   ]
  },
  {
   "cell_type": "code",
   "metadata": {},
   "source": [
    "ef.portfolio_performance(verbose=True)"
   ]
  },
  {
   "cell_type": "code",
   "metadata": {},
   "source": [
    "current = funds.set_index('Proxy_Ticker')['Weight_%'].to_dict()\\n",
    "comparison = pd.DataFrame({\\n",
    "    'Current': current,\\n",
    "    'Optimized': cleaned\\n",
    "}).fillna(0)\\n",
    "comparison['Difference'] = comparison['Optimized'] - comparison['Current']\\n",
    "comparison"
   ]
  },
  {
   "cell_type": "code",
   "metadata": {},
   "source": [
    "ef_plot = EfficientFrontier(mu, S)\\n",
    "fig, ax = plt.subplots(figsize=(8,6))\\n",
    "plotting.plot_efficient_frontier(ef_plot, ax=ax, show_assets=False)\\n",
    "ret_opt, vol_opt, _ = ef.portfolio_performance()\\n",
    "ax.scatter(vol_opt, ret_opt, marker='*', s=150, c='orange', label='Optimized')\\n",
    "w_cur = np.array(list(current.values()))\\n",
    "ret_cur = np.dot(w_cur, mu)\\n",
    "vol_cur = np.sqrt(np.dot(w_cur.T, np.dot(S, w_cur)))\\n",
    "ax.scatter(vol_cur, ret_cur, marker='o', s=80, c='blue', label='Current')\\n",
    "ax.set_title('Efficient Frontier: Current vs Optimized')\\n",
    "ax.set_xlabel('Volatility (Risk)')\\n",
    "ax.set_ylabel('Expected Return')\\n",
    "ax.legend()\\n",
    "plt.show()"
   ]
  }
 ],
 "metadata": {
  "kernelspec": {
   "display_name": "Python 3",
   "language": "python",
   "name": "python3"
  },
  "language_info": {
   "name": "python"
  }
 },
 "nbformat": 4,
 "nbformat_minor": 2
}
